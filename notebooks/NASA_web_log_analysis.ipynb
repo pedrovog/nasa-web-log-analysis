{
 "cells": [
  {
   "cell_type": "markdown",
   "metadata": {},
   "source": [
    "# Desafio técnico Engenheiro de dados Semantix\n",
    "#### Análise de Web Logs NASA\n"
   ]
  },
  {
   "cell_type": "code",
   "execution_count": 1,
   "metadata": {},
   "outputs": [],
   "source": [
    "import os\n",
    "import sys\n",
    "import gzip\n",
    "import shutil\n",
    "import pyspark\n",
    "import urllib.request\n",
    "from pyspark.sql import SparkSession\n",
    "from pyspark.sql.types import StringType\n",
    "from pyspark.sql.functions import split, regexp_extract, year, month, dayofmonth, udf, isnan, when, count, col, sum"
   ]
  },
  {
   "cell_type": "markdown",
   "metadata": {},
   "source": [
    "## Criando diretório para armazenar os dados"
   ]
  },
  {
   "cell_type": "code",
   "execution_count": 2,
   "metadata": {},
   "outputs": [
    {
     "name": "stdout",
     "output_type": "stream",
     "text": [
      "Criando diretório 'data'.\n"
     ]
    }
   ],
   "source": [
    "data_dir = 'data'\n",
    "if not os.path.exists(data_dir):\n",
    "    print(\"Criando diretório '{}'.\".format(data_dir))\n",
    "    os.makedirs(data_dir)"
   ]
  },
  {
   "cell_type": "markdown",
   "metadata": {},
   "source": [
    "## Realizando Download dos arquivos"
   ]
  },
  {
   "cell_type": "code",
   "execution_count": 3,
   "metadata": {},
   "outputs": [],
   "source": [
    "def download_file(source_url, destination_file):\n",
    "    try:\n",
    "        print(\"Downloading: {} to {}\".format(source_url, destination_file))\n",
    "        urllib.request.urlretrieve(source_url, destination_file)\n",
    "    except Exception as e:\n",
    "        print(e)\n",
    "        sys.exit(1)"
   ]
  },
  {
   "cell_type": "code",
   "execution_count": 4,
   "metadata": {},
   "outputs": [],
   "source": [
    "nasa_log_jul95_destination_file = '{}/NASA_access_log_Jul95.gz'.format(data_dir)\n",
    "nasa_log_aug95_destination_file = '{}/NASA_access_log_Aug95.gz'.format(data_dir)\n",
    "nasa_log_jul95_source_url = 'ftp://ita.ee.lbl.gov/traces/NASA_access_log_Jul95.gz'\n",
    "nasa_log_aug95_source_url = 'ftp://ita.ee.lbl.gov/traces/NASA_access_log_Aug95.gz'"
   ]
  },
  {
   "cell_type": "code",
   "execution_count": 5,
   "metadata": {},
   "outputs": [
    {
     "name": "stdout",
     "output_type": "stream",
     "text": [
      "Downloading: ftp://ita.ee.lbl.gov/traces/NASA_access_log_Jul95.gz to data/NASA_access_log_Jul95.gz\n",
      "Downloading: ftp://ita.ee.lbl.gov/traces/NASA_access_log_Aug95.gz to data/NASA_access_log_Aug95.gz\n"
     ]
    }
   ],
   "source": [
    "download_file(nasa_log_jul95_source_url, nasa_log_jul95_destination_file)\n",
    "download_file(nasa_log_aug95_source_url, nasa_log_aug95_destination_file)"
   ]
  },
  {
   "cell_type": "markdown",
   "metadata": {},
   "source": [
    "## Descompactando Arquivos"
   ]
  },
  {
   "cell_type": "code",
   "execution_count": 6,
   "metadata": {},
   "outputs": [],
   "source": [
    "nasa_log_jul95_destination_raw_file = '{}/nasa_access_log_jul95'.format(data_dir)\n",
    "nasa_log_aug95_destination_raw_file = '{}/nasa_access_log_aug95'.format(data_dir)"
   ]
  },
  {
   "cell_type": "code",
   "execution_count": 7,
   "metadata": {},
   "outputs": [],
   "source": [
    "def decompress_file(source_compressed_file, destination_raw_file):\n",
    "    print('Decompressing file {} to {}'.format(source_compressed_file, destination_raw_file))\n",
    "    with gzip.open(source_compressed_file, 'rb') as c:\n",
    "        with open(destination_raw_file, 'wb') as f:\n",
    "            shutil.copyfileobj(c, f)"
   ]
  },
  {
   "cell_type": "code",
   "execution_count": 8,
   "metadata": {},
   "outputs": [
    {
     "name": "stdout",
     "output_type": "stream",
     "text": [
      "Decompressing file data/NASA_access_log_Jul95.gz to data/nasa_access_log_jul95\n",
      "Decompressing file data/NASA_access_log_Aug95.gz to data/nasa_access_log_aug95\n"
     ]
    }
   ],
   "source": [
    "decompress_file(nasa_log_jul95_destination_file, nasa_log_jul95_destination_raw_file)\n",
    "decompress_file(nasa_log_aug95_destination_file, nasa_log_aug95_destination_raw_file)"
   ]
  },
  {
   "cell_type": "markdown",
   "metadata": {},
   "source": [
    "### Realizando a leitura dos arquivos"
   ]
  },
  {
   "cell_type": "code",
   "execution_count": 9,
   "metadata": {},
   "outputs": [],
   "source": [
    "spark = SparkSession.builder \\\n",
    "        .master(\"local\") \\\n",
    "        .appName(\"NASA Web Log Analysis\") \\\n",
    "        .getOrCreate()"
   ]
  },
  {
   "cell_type": "code",
   "execution_count": 10,
   "metadata": {},
   "outputs": [
    {
     "name": "stdout",
     "output_type": "stream",
     "text": [
      "root\n",
      " |-- value: string (nullable = true)\n",
      "\n",
      "Número de registros em data/nasa_access_log_jul95 : 1891715\n"
     ]
    }
   ],
   "source": [
    "df_nasa_log_jul95 = spark.read.text(nasa_log_jul95_destination_raw_file)\n",
    "df_nasa_log_jul95.printSchema()\n",
    "\n",
    "df_jul_count = df_nasa_log_jul95.count()\n",
    "print('Número de registros em {} : {}'.format(nasa_log_jul95_destination_raw_file, df_jul_count))"
   ]
  },
  {
   "cell_type": "code",
   "execution_count": 11,
   "metadata": {},
   "outputs": [
    {
     "name": "stdout",
     "output_type": "stream",
     "text": [
      "root\n",
      " |-- value: string (nullable = true)\n",
      "\n",
      "Número de registros em data/nasa_access_log_aug95 : 1569898\n"
     ]
    }
   ],
   "source": [
    "df_nasa_log_aug95 = spark.read.text(nasa_log_aug95_destination_raw_file)\n",
    "df_nasa_log_aug95.printSchema()\n",
    "df_nasa_log_aug95.count()\n",
    "\n",
    "df_aug_count = df_nasa_log_aug95.count()\n",
    "print('Número de registros em {} : {}'.format(nasa_log_aug95_destination_raw_file, df_aug_count))"
   ]
  },
  {
   "cell_type": "code",
   "execution_count": 12,
   "metadata": {},
   "outputs": [
    {
     "name": "stdout",
     "output_type": "stream",
     "text": [
      "Número de registros importados: 3461613\n"
     ]
    }
   ],
   "source": [
    "total_registros = df_jul_count + df_aug_count\n",
    "print('Número de registros importados: {}'.format(total_registros))"
   ]
  },
  {
   "cell_type": "markdown",
   "metadata": {},
   "source": [
    "### Concatenando dataframes"
   ]
  },
  {
   "cell_type": "code",
   "execution_count": 13,
   "metadata": {},
   "outputs": [
    {
     "name": "stdout",
     "output_type": "stream",
     "text": [
      "root\n",
      " |-- value: string (nullable = true)\n",
      "\n"
     ]
    },
    {
     "data": {
      "text/plain": [
       "3461613"
      ]
     },
     "execution_count": 13,
     "metadata": {},
     "output_type": "execute_result"
    }
   ],
   "source": [
    "df_raw_nasa_log = df_nasa_log_aug95.union(df_nasa_log_jul95)\n",
    "df_raw_nasa_log.printSchema()\n",
    "df_raw_nasa_log.count()"
   ]
  },
  {
   "cell_type": "code",
   "execution_count": 14,
   "metadata": {},
   "outputs": [
    {
     "name": "stdout",
     "output_type": "stream",
     "text": [
      "+--------------------------------------------------------------------------------------------------------------------------+\n",
      "|value                                                                                                                     |\n",
      "+--------------------------------------------------------------------------------------------------------------------------+\n",
      "|in24.inetnebr.com - - [01/Aug/1995:00:00:01 -0400] \"GET /shuttle/missions/sts-68/news/sts-68-mcc-05.txt HTTP/1.0\" 200 1839|\n",
      "|uplherc.upl.com - - [01/Aug/1995:00:00:07 -0400] \"GET / HTTP/1.0\" 304 0                                                   |\n",
      "|uplherc.upl.com - - [01/Aug/1995:00:00:08 -0400] \"GET /images/ksclogo-medium.gif HTTP/1.0\" 304 0                          |\n",
      "|uplherc.upl.com - - [01/Aug/1995:00:00:08 -0400] \"GET /images/MOSAIC-logosmall.gif HTTP/1.0\" 304 0                        |\n",
      "|uplherc.upl.com - - [01/Aug/1995:00:00:08 -0400] \"GET /images/USA-logosmall.gif HTTP/1.0\" 304 0                           |\n",
      "+--------------------------------------------------------------------------------------------------------------------------+\n",
      "only showing top 5 rows\n",
      "\n"
     ]
    }
   ],
   "source": [
    "df_raw_nasa_log.show(n=5, truncate=False)"
   ]
  },
  {
   "cell_type": "markdown",
   "metadata": {},
   "source": [
    "### Realizando o Parse dos logs do servidor web"
   ]
  },
  {
   "cell_type": "code",
   "execution_count": 15,
   "metadata": {},
   "outputs": [
    {
     "name": "stdout",
     "output_type": "stream",
     "text": [
      "+------------------+--------------------------+-----------------------------------------------+------+------------+\n",
      "|host              |timestamp                 |path                                           |status|content_size|\n",
      "+------------------+--------------------------+-----------------------------------------------+------+------------+\n",
      "|in24.inetnebr.com |01/Aug/1995:00:00:01 -0400|/shuttle/missions/sts-68/news/sts-68-mcc-05.txt|200   |1839        |\n",
      "|uplherc.upl.com   |01/Aug/1995:00:00:07 -0400|/                                              |304   |0           |\n",
      "|uplherc.upl.com   |01/Aug/1995:00:00:08 -0400|/images/ksclogo-medium.gif                     |304   |0           |\n",
      "|uplherc.upl.com   |01/Aug/1995:00:00:08 -0400|/images/MOSAIC-logosmall.gif                   |304   |0           |\n",
      "|uplherc.upl.com   |01/Aug/1995:00:00:08 -0400|/images/USA-logosmall.gif                      |304   |0           |\n",
      "+------------------+--------------------------+-----------------------------------------------+------+------------+\n",
      "only showing top 5 rows\n",
      "\n"
     ]
    },
    {
     "data": {
      "text/plain": [
       "3461613"
      ]
     },
     "execution_count": 15,
     "metadata": {},
     "output_type": "execute_result"
    }
   ],
   "source": [
    "df_nasa_log = df_raw_nasa_log.select(regexp_extract('value', r'^([^\\s]+\\s)', 1).alias('host'),\n",
    "                          regexp_extract('value', r'^.*\\[(\\d\\d/\\w{3}/\\d{4}:\\d{2}:\\d{2}:\\d{2} -\\d{4})]', 1).alias('timestamp'),\n",
    "                          regexp_extract('value', r'^.*\"\\w+\\s+([^\\s]+)\\s+HTTP.*\"', 1).alias('path'),\n",
    "                          regexp_extract('value', r'^.*\"\\s+([^\\s]+)', 1).cast('integer').alias('status'),\n",
    "                          regexp_extract('value', r'^.*\\s+(\\d+)$', 1).cast('integer').alias('content_size'))\n",
    "df_nasa_log.show(n=5, truncate=False)\n",
    "df_nasa_log.cache()\n",
    "df_nasa_log.count()"
   ]
  },
  {
   "cell_type": "markdown",
   "metadata": {},
   "source": [
    "## Checagem de dados"
   ]
  },
  {
   "cell_type": "markdown",
   "metadata": {},
   "source": [
    "### Verificando colunas com registros nulos"
   ]
  },
  {
   "cell_type": "code",
   "execution_count": 16,
   "metadata": {},
   "outputs": [
    {
     "name": "stdout",
     "output_type": "stream",
     "text": [
      "+----+---------+----+------+------------+\n",
      "|host|timestamp|path|status|content_size|\n",
      "+----+---------+----+------+------------+\n",
      "|   0|        0|   0|     1|       33905|\n",
      "+----+---------+----+------+------------+\n",
      "\n"
     ]
    }
   ],
   "source": [
    "df_nasa_log.select([count(when(col(c).isNull(), c)).alias(c) for c in df_nasa_log.columns]).show()"
   ]
  },
  {
   "cell_type": "markdown",
   "metadata": {},
   "source": [
    "### Corrigindo 'content-size' vazio"
   ]
  },
  {
   "cell_type": "code",
   "execution_count": 17,
   "metadata": {},
   "outputs": [
    {
     "name": "stdout",
     "output_type": "stream",
     "text": [
      "+--------------------+--------------------+--------------------+------+------------+\n",
      "|                host|           timestamp|                path|status|content_size|\n",
      "+--------------------+--------------------+--------------------+------+------------+\n",
      "|        gw1.att.com |01/Aug/1995:00:03...|/shuttle/missions...|   302|        null|\n",
      "|js002.cc.utsunomi...|01/Aug/1995:00:07...|/shuttle/resource...|   404|        null|\n",
      "|    tia1.eskimo.com |01/Aug/1995:00:28...|/pub/winvn/releas...|   404|        null|\n",
      "|itws.info.eng.nii...|01/Aug/1995:00:38...|/ksc.html/facts/a...|   403|        null|\n",
      "|grimnet23.idirect...|01/Aug/1995:00:50...|/www/software/win...|   404|        null|\n",
      "|miriworld.its.uni...|01/Aug/1995:01:04...|/history/history.htm|   404|        null|\n",
      "|      ras38.srv.net |01/Aug/1995:01:05...|/elv/DELTA/uncons...|   404|        null|\n",
      "| cs1-06.leh.ptd.net |01/Aug/1995:01:17...|                    |   404|        null|\n",
      "|www-b2.proxy.aol....|01/Aug/1995:01:22...|  /shuttle/countdown|   302|        null|\n",
      "|    maui56.maui.net |01/Aug/1995:01:31...|            /shuttle|   302|        null|\n",
      "|dialip-24.athenet...|01/Aug/1995:01:33...|/history/apollo/a...|   404|        null|\n",
      "|  h96-158.ccnet.com |01/Aug/1995:01:35...|/history/apollo/a...|   404|        null|\n",
      "|  h96-158.ccnet.com |01/Aug/1995:01:36...|/history/apollo/a...|   404|        null|\n",
      "|  h96-158.ccnet.com |01/Aug/1995:01:36...|/history/apollo/a...|   404|        null|\n",
      "|  h96-158.ccnet.com |01/Aug/1995:01:36...|/history/apollo/a...|   404|        null|\n",
      "|  h96-158.ccnet.com |01/Aug/1995:01:36...|/history/apollo/a...|   404|        null|\n",
      "|  h96-158.ccnet.com |01/Aug/1995:01:36...|/history/apollo/a...|   404|        null|\n",
      "|  h96-158.ccnet.com |01/Aug/1995:01:36...|/history/apollo/a...|   404|        null|\n",
      "|  h96-158.ccnet.com |01/Aug/1995:01:37...|/history/apollo/a...|   404|        null|\n",
      "|  h96-158.ccnet.com |01/Aug/1995:01:37...|/history/apollo/a...|   404|        null|\n",
      "+--------------------+--------------------+--------------------+------+------------+\n",
      "only showing top 20 rows\n",
      "\n"
     ]
    }
   ],
   "source": [
    "df_empty_content_size = df_nasa_log.filter(df_nasa_log.content_size.isNull())\n",
    "df_empty_content_size.show()"
   ]
  },
  {
   "cell_type": "code",
   "execution_count": 18,
   "metadata": {},
   "outputs": [
    {
     "name": "stdout",
     "output_type": "stream",
     "text": [
      "+------+-----+\n",
      "|status|count|\n",
      "+------+-----+\n",
      "|   501|   41|\n",
      "|  null|    1|\n",
      "|   400|   15|\n",
      "|   403|  225|\n",
      "|   404|20900|\n",
      "|   200|  161|\n",
      "|   302|12562|\n",
      "+------+-----+\n",
      "\n"
     ]
    }
   ],
   "source": [
    "df_empty_content_size.groupBy('status').count().show()"
   ]
  },
  {
   "cell_type": "markdown",
   "metadata": {},
   "source": [
    "### Substituindo 'content-size' nulo para '0'"
   ]
  },
  {
   "cell_type": "code",
   "execution_count": 19,
   "metadata": {},
   "outputs": [],
   "source": [
    "df_nasa_log = df_nasa_log.na.fill({'content_size': 0})"
   ]
  },
  {
   "cell_type": "markdown",
   "metadata": {},
   "source": [
    "## Transformação da coluna 'timestamp'"
   ]
  },
  {
   "cell_type": "code",
   "execution_count": 20,
   "metadata": {},
   "outputs": [],
   "source": [
    "months = {\n",
    "    'Jan':1,\n",
    "    'Feb':2,\n",
    "    'Mar':3,\n",
    "    'Apr':4,\n",
    "    'May':5,\n",
    "    'Jun':6,\n",
    "    'Jul':7,\n",
    "    'Aug':8,\n",
    "    'Sep':9,\n",
    "    'Oct':10,\n",
    "    'Nov':11,\n",
    "    'Dec':12\n",
    "}\n",
    "\n",
    "def parse_timestamp(s):\n",
    "    return \"{0:04d}-{1:02d}-{2:02d} {3:02d}:{4:02d}:{5:02d}\".format(\n",
    "      int(s[7:11]),\n",
    "      months[s[3:6]],\n",
    "      int(s[0:2]),\n",
    "      int(s[12:14]),\n",
    "      int(s[15:17]),\n",
    "      int(s[18:20])\n",
    "    )\n",
    "\n",
    "u_parse_timestamp = udf(parse_timestamp, StringType())\n",
    "\n",
    "\n",
    "df_nasa_log = df_nasa_log.select('*', u_parse_timestamp(df_nasa_log['timestamp']).cast('timestamp') \\\n",
    "                                 .alias('time')) \\\n",
    "                                 .drop('timestamp')"
   ]
  },
  {
   "cell_type": "markdown",
   "metadata": {},
   "source": [
    "## Encontrando o número de hosts unicos"
   ]
  },
  {
   "cell_type": "code",
   "execution_count": 21,
   "metadata": {},
   "outputs": [
    {
     "name": "stdout",
     "output_type": "stream",
     "text": [
      "Número de Hosts Unicos: 137979\n"
     ]
    }
   ],
   "source": [
    "distinct_hosts = df_nasa_log.select('host') \\\n",
    "                .distinct() \\\n",
    "                .count()\n",
    "print(\"Número de Hosts Unicos: {}\".format(distinct_hosts))"
   ]
  },
  {
   "cell_type": "markdown",
   "metadata": {},
   "source": [
    "## Encontrando número de respostas 404 (Not Found)"
   ]
  },
  {
   "cell_type": "code",
   "execution_count": 22,
   "metadata": {},
   "outputs": [
    {
     "name": "stdout",
     "output_type": "stream",
     "text": [
      "Número de Respostas 404: 20901\n"
     ]
    }
   ],
   "source": [
    "not_found = df_nasa_log.filter('status = 404').count()\n",
    "print(\"Número de Respostas 404: {}\".format(not_found))"
   ]
  },
  {
   "cell_type": "markdown",
   "metadata": {},
   "source": [
    "## Encontrando TOP 5 URLs não encontradas"
   ]
  },
  {
   "cell_type": "code",
   "execution_count": 23,
   "metadata": {},
   "outputs": [
    {
     "name": "stdout",
     "output_type": "stream",
     "text": [
      "+--------------------------------------------+-----+\n",
      "|path                                        |count|\n",
      "+--------------------------------------------+-----+\n",
      "|/pub/winvn/readme.txt                       |2004 |\n",
      "|/pub/winvn/release.txt                      |1732 |\n",
      "|/shuttle/missions/STS-69/mission-STS-69.html|682  |\n",
      "|/shuttle/missions/sts-68/ksc-upclose.gif    |426  |\n",
      "|/history/apollo/a-001/a-001-patch-small.gif |384  |\n",
      "+--------------------------------------------+-----+\n",
      "only showing top 5 rows\n",
      "\n"
     ]
    }
   ],
   "source": [
    "urls = df_nasa_log.filter('status = 404') \\\n",
    "        .groupBy('path') \\\n",
    "        .count() \\\n",
    "        .sort(\"count\", ascending=False)\n",
    "urls.show(5, truncate=False)"
   ]
  },
  {
   "cell_type": "markdown",
   "metadata": {},
   "source": [
    "## Encontrando número de Erros 404 por dia"
   ]
  },
  {
   "cell_type": "code",
   "execution_count": 24,
   "metadata": {},
   "outputs": [
    {
     "name": "stdout",
     "output_type": "stream",
     "text": [
      "+-----+---+-----+\n",
      "|month|day|count|\n",
      "+-----+---+-----+\n",
      "|7    |6  |640  |\n",
      "|7    |19 |639  |\n",
      "|8    |30 |571  |\n",
      "|7    |7  |570  |\n",
      "|8    |7  |537  |\n",
      "|7    |13 |532  |\n",
      "|8    |31 |526  |\n",
      "|7    |5  |497  |\n",
      "|7    |3  |474  |\n",
      "|7    |11 |471  |\n",
      "|7    |12 |471  |\n",
      "|7    |18 |465  |\n",
      "|7    |25 |461  |\n",
      "|7    |20 |428  |\n",
      "|8    |24 |420  |\n",
      "|8    |29 |420  |\n",
      "|8    |25 |415  |\n",
      "|7    |14 |413  |\n",
      "|8    |28 |410  |\n",
      "|7    |17 |406  |\n",
      "+-----+---+-----+\n",
      "only showing top 20 rows\n",
      "\n"
     ]
    }
   ],
   "source": [
    "not_found_per_day = df_nasa_log.select(month('time').alias('month'), \\\n",
    "                                       dayofmonth('time').alias('day')) \\\n",
    "                    .filter('status = 404') \\\n",
    "                    .groupBy('month', 'day') \\\n",
    "                    .count() \\\n",
    "                    .sort(\"count\", ascending=False)\n",
    "not_found_per_day.show(truncate=False)\n"
   ]
  },
  {
   "cell_type": "markdown",
   "metadata": {},
   "source": [
    "## Encontrando o número de bytes trafegados"
   ]
  },
  {
   "cell_type": "code",
   "execution_count": 26,
   "metadata": {},
   "outputs": [
    {
     "name": "stdout",
     "output_type": "stream",
     "text": [
      "Total de bytes trafegados: 65524314915\n"
     ]
    }
   ],
   "source": [
    "response_bytes_size = df_nasa_log.agg(sum(\"content_size\")).collect()[0][0]\n",
    "print('Total de bytes trafegados: {}'.format(response_bytes_size))"
   ]
  }
 ],
 "metadata": {
  "kernelspec": {
   "display_name": "Python 3",
   "language": "python",
   "name": "python3"
  },
  "language_info": {
   "codemirror_mode": {
    "name": "ipython",
    "version": 3
   },
   "file_extension": ".py",
   "mimetype": "text/x-python",
   "name": "python",
   "nbconvert_exporter": "python",
   "pygments_lexer": "ipython3",
   "version": "3.6.3"
  }
 },
 "nbformat": 4,
 "nbformat_minor": 2
}
