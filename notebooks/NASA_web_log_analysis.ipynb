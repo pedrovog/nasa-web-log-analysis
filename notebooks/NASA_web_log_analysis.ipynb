{
 "cells": [
  {
   "cell_type": "code",
   "execution_count": 1,
   "metadata": {},
   "outputs": [],
   "source": [
    "import sys\n",
    "import gzip\n",
    "import shutil\n",
    "import pyspark\n",
    "import urllib.request\n",
    "from pyspark.sql import SparkSession\n",
    "from pyspark.sql.types import StringType\n",
    "from pyspark.sql.functions import split, regexp_extract, year, month, dayofmonth, udf"
   ]
  },
  {
   "cell_type": "markdown",
   "metadata": {},
   "source": [
    "## Realizando Download dos arquivos"
   ]
  },
  {
   "cell_type": "code",
   "execution_count": 2,
   "metadata": {},
   "outputs": [],
   "source": [
    "def download_file(source_url, destination_file):\n",
    "    try:\n",
    "        print(\"Downloading: {} to {}\".format(source_url, destination_file))\n",
    "        urllib.request.urlretrieve(source_url, destination_file)\n",
    "    except Exception as e:\n",
    "        print(e)\n",
    "        sys.exit(1)"
   ]
  },
  {
   "cell_type": "code",
   "execution_count": 3,
   "metadata": {},
   "outputs": [],
   "source": [
    "nasa_log_jul95_destination_file = 'data/NASA_access_log_Jul95.gz'\n",
    "nasa_log_aug95_destination_file = 'data/NASA_access_log_Aug95.gz'\n",
    "nasa_log_jul95_source_url = 'ftp://ita.ee.lbl.gov/traces/NASA_access_log_Jul95.gz'\n",
    "nasa_log_aug95_source_url = 'ftp://ita.ee.lbl.gov/traces/NASA_access_log_Aug95.gz'"
   ]
  },
  {
   "cell_type": "code",
   "execution_count": 4,
   "metadata": {},
   "outputs": [
    {
     "name": "stdout",
     "output_type": "stream",
     "text": [
      "Downloading: ftp://ita.ee.lbl.gov/traces/NASA_access_log_Jul95.gz to data/NASA_access_log_Jul95.gz\n",
      "Downloading: ftp://ita.ee.lbl.gov/traces/NASA_access_log_Aug95.gz to data/NASA_access_log_Aug95.gz\n"
     ]
    }
   ],
   "source": [
    "download_file(nasa_log_jul95_source_url, nasa_log_jul95_destination_file)\n",
    "download_file(nasa_log_aug95_source_url, nasa_log_aug95_destination_file)"
   ]
  },
  {
   "cell_type": "markdown",
   "metadata": {},
   "source": [
    "## Descompactando Arquivos"
   ]
  },
  {
   "cell_type": "code",
   "execution_count": 8,
   "metadata": {},
   "outputs": [],
   "source": [
    "nasa_log_jul95_destination_raw_file = 'data/access_log_jul95'\n",
    "nasa_log_aug95_destination_raw_file = 'data/access_log_aug95'"
   ]
  },
  {
   "cell_type": "code",
   "execution_count": null,
   "metadata": {},
   "outputs": [],
   "source": [
    "def decompress_file(source_compressed_file, destination_raw_file):\n",
    "    print('Decompressing file {} to {}'.format(source_compressed_file, destination_raw_file))\n",
    "    with gzip.open(source_compressed_file, 'rb') as c:\n",
    "        with open(destination_raw_file, 'wb') as f:\n",
    "            shutil.copyfileobj(c, f)"
   ]
  },
  {
   "cell_type": "code",
   "execution_count": null,
   "metadata": {},
   "outputs": [],
   "source": [
    "decompress_file(nasa_log_jul95_destination_file, nasa_log_jul95_destination_raw_file)\n",
    "decompress_file(nasa_log_aug95_destination_file, nasa_log_aug95_destination_raw_file)"
   ]
  },
  {
   "cell_type": "markdown",
   "metadata": {},
   "source": [
    "### Realizando a leitura dos arquivos"
   ]
  },
  {
   "cell_type": "code",
   "execution_count": 6,
   "metadata": {},
   "outputs": [],
   "source": [
    "spark = SparkSession.builder \\\n",
    "        .master(\"local\") \\\n",
    "        .appName(\"NASA Web Log Analysis\") \\\n",
    "        .getOrCreate()"
   ]
  },
  {
   "cell_type": "code",
   "execution_count": 9,
   "metadata": {},
   "outputs": [
    {
     "name": "stdout",
     "output_type": "stream",
     "text": [
      "root\n",
      " |-- value: string (nullable = true)\n",
      "\n"
     ]
    },
    {
     "data": {
      "text/plain": [
       "1891715"
      ]
     },
     "execution_count": 9,
     "metadata": {},
     "output_type": "execute_result"
    }
   ],
   "source": [
    "df_nasa_log_jul95 = spark.read.text(nasa_log_jul95_destination_raw_file)\n",
    "df_nasa_log_jul95.printSchema()\n",
    "df_nasa_log_jul95.count()\n"
   ]
  },
  {
   "cell_type": "code",
   "execution_count": 10,
   "metadata": {},
   "outputs": [
    {
     "name": "stdout",
     "output_type": "stream",
     "text": [
      "root\n",
      " |-- value: string (nullable = true)\n",
      "\n"
     ]
    },
    {
     "data": {
      "text/plain": [
       "1891715"
      ]
     },
     "execution_count": 10,
     "metadata": {},
     "output_type": "execute_result"
    }
   ],
   "source": [
    "df_nasa_log_aug95 = spark.read.text(nasa_log_jul95_destination_raw_file)\n",
    "df_nasa_log_aug95.printSchema()\n",
    "df_nasa_log_aug95.count()"
   ]
  },
  {
   "cell_type": "markdown",
   "metadata": {},
   "source": [
    "### Concatenando dataframes"
   ]
  },
  {
   "cell_type": "code",
   "execution_count": 11,
   "metadata": {},
   "outputs": [
    {
     "name": "stdout",
     "output_type": "stream",
     "text": [
      "root\n",
      " |-- value: string (nullable = true)\n",
      "\n"
     ]
    },
    {
     "data": {
      "text/plain": [
       "3783430"
      ]
     },
     "execution_count": 11,
     "metadata": {},
     "output_type": "execute_result"
    }
   ],
   "source": [
    "df_raw_nasa_log = df_nasa_log_aug95.union(df_nasa_log_jul95)\n",
    "df_raw_nasa_log.printSchema()\n",
    "df_raw_nasa_log.count()"
   ]
  },
  {
   "cell_type": "code",
   "execution_count": 12,
   "metadata": {},
   "outputs": [
    {
     "name": "stdout",
     "output_type": "stream",
     "text": [
      "+------------------------------------------------------------------------------------------------------------------------------+\n",
      "|value                                                                                                                         |\n",
      "+------------------------------------------------------------------------------------------------------------------------------+\n",
      "|199.72.81.55 - - [01/Jul/1995:00:00:01 -0400] \"GET /history/apollo/ HTTP/1.0\" 200 6245                                        |\n",
      "|unicomp6.unicomp.net - - [01/Jul/1995:00:00:06 -0400] \"GET /shuttle/countdown/ HTTP/1.0\" 200 3985                             |\n",
      "|199.120.110.21 - - [01/Jul/1995:00:00:09 -0400] \"GET /shuttle/missions/sts-73/mission-sts-73.html HTTP/1.0\" 200 4085          |\n",
      "|burger.letters.com - - [01/Jul/1995:00:00:11 -0400] \"GET /shuttle/countdown/liftoff.html HTTP/1.0\" 304 0                      |\n",
      "|199.120.110.21 - - [01/Jul/1995:00:00:11 -0400] \"GET /shuttle/missions/sts-73/sts-73-patch-small.gif HTTP/1.0\" 200 4179       |\n",
      "|burger.letters.com - - [01/Jul/1995:00:00:12 -0400] \"GET /images/NASA-logosmall.gif HTTP/1.0\" 304 0                           |\n",
      "|burger.letters.com - - [01/Jul/1995:00:00:12 -0400] \"GET /shuttle/countdown/video/livevideo.gif HTTP/1.0\" 200 0               |\n",
      "|205.212.115.106 - - [01/Jul/1995:00:00:12 -0400] \"GET /shuttle/countdown/countdown.html HTTP/1.0\" 200 3985                    |\n",
      "|d104.aa.net - - [01/Jul/1995:00:00:13 -0400] \"GET /shuttle/countdown/ HTTP/1.0\" 200 3985                                      |\n",
      "|129.94.144.152 - - [01/Jul/1995:00:00:13 -0400] \"GET / HTTP/1.0\" 200 7074                                                     |\n",
      "|unicomp6.unicomp.net - - [01/Jul/1995:00:00:14 -0400] \"GET /shuttle/countdown/count.gif HTTP/1.0\" 200 40310                   |\n",
      "|unicomp6.unicomp.net - - [01/Jul/1995:00:00:14 -0400] \"GET /images/NASA-logosmall.gif HTTP/1.0\" 200 786                       |\n",
      "|unicomp6.unicomp.net - - [01/Jul/1995:00:00:14 -0400] \"GET /images/KSC-logosmall.gif HTTP/1.0\" 200 1204                       |\n",
      "|d104.aa.net - - [01/Jul/1995:00:00:15 -0400] \"GET /shuttle/countdown/count.gif HTTP/1.0\" 200 40310                            |\n",
      "|d104.aa.net - - [01/Jul/1995:00:00:15 -0400] \"GET /images/NASA-logosmall.gif HTTP/1.0\" 200 786                                |\n",
      "|d104.aa.net - - [01/Jul/1995:00:00:15 -0400] \"GET /images/KSC-logosmall.gif HTTP/1.0\" 200 1204                                |\n",
      "|129.94.144.152 - - [01/Jul/1995:00:00:17 -0400] \"GET /images/ksclogo-medium.gif HTTP/1.0\" 304 0                               |\n",
      "|199.120.110.21 - - [01/Jul/1995:00:00:17 -0400] \"GET /images/launch-logo.gif HTTP/1.0\" 200 1713                               |\n",
      "|ppptky391.asahi-net.or.jp - - [01/Jul/1995:00:00:18 -0400] \"GET /facts/about_ksc.html HTTP/1.0\" 200 3977                      |\n",
      "|net-1-141.eden.com - - [01/Jul/1995:00:00:19 -0400] \"GET /shuttle/missions/sts-71/images/KSC-95EC-0916.jpg HTTP/1.0\" 200 34029|\n",
      "+------------------------------------------------------------------------------------------------------------------------------+\n",
      "only showing top 20 rows\n",
      "\n"
     ]
    }
   ],
   "source": [
    "df_raw_nasa_log.show(truncate=False)"
   ]
  },
  {
   "cell_type": "markdown",
   "metadata": {},
   "source": [
    "### Realizando o Parse dos logs do servidor web"
   ]
  },
  {
   "cell_type": "code",
   "execution_count": 30,
   "metadata": {},
   "outputs": [
    {
     "name": "stdout",
     "output_type": "stream",
     "text": [
      "+--------------------------+--------------------------+-------------------------------------------------+------+------------+\n",
      "|host                      |timestamp                 |path                                             |status|content_size|\n",
      "+--------------------------+--------------------------+-------------------------------------------------+------+------------+\n",
      "|199.72.81.55              |01/Jul/1995:00:00:01 -0400|/history/apollo/                                 |200   |6245        |\n",
      "|unicomp6.unicomp.net      |01/Jul/1995:00:00:06 -0400|/shuttle/countdown/                              |200   |3985        |\n",
      "|199.120.110.21            |01/Jul/1995:00:00:09 -0400|/shuttle/missions/sts-73/mission-sts-73.html     |200   |4085        |\n",
      "|burger.letters.com        |01/Jul/1995:00:00:11 -0400|/shuttle/countdown/liftoff.html                  |304   |0           |\n",
      "|199.120.110.21            |01/Jul/1995:00:00:11 -0400|/shuttle/missions/sts-73/sts-73-patch-small.gif  |200   |4179        |\n",
      "|burger.letters.com        |01/Jul/1995:00:00:12 -0400|/images/NASA-logosmall.gif                       |304   |0           |\n",
      "|burger.letters.com        |01/Jul/1995:00:00:12 -0400|/shuttle/countdown/video/livevideo.gif           |200   |0           |\n",
      "|205.212.115.106           |01/Jul/1995:00:00:12 -0400|/shuttle/countdown/countdown.html                |200   |3985        |\n",
      "|d104.aa.net               |01/Jul/1995:00:00:13 -0400|/shuttle/countdown/                              |200   |3985        |\n",
      "|129.94.144.152            |01/Jul/1995:00:00:13 -0400|/                                                |200   |7074        |\n",
      "|unicomp6.unicomp.net      |01/Jul/1995:00:00:14 -0400|/shuttle/countdown/count.gif                     |200   |40310       |\n",
      "|unicomp6.unicomp.net      |01/Jul/1995:00:00:14 -0400|/images/NASA-logosmall.gif                       |200   |786         |\n",
      "|unicomp6.unicomp.net      |01/Jul/1995:00:00:14 -0400|/images/KSC-logosmall.gif                        |200   |1204        |\n",
      "|d104.aa.net               |01/Jul/1995:00:00:15 -0400|/shuttle/countdown/count.gif                     |200   |40310       |\n",
      "|d104.aa.net               |01/Jul/1995:00:00:15 -0400|/images/NASA-logosmall.gif                       |200   |786         |\n",
      "|d104.aa.net               |01/Jul/1995:00:00:15 -0400|/images/KSC-logosmall.gif                        |200   |1204        |\n",
      "|129.94.144.152            |01/Jul/1995:00:00:17 -0400|/images/ksclogo-medium.gif                       |304   |0           |\n",
      "|199.120.110.21            |01/Jul/1995:00:00:17 -0400|/images/launch-logo.gif                          |200   |1713        |\n",
      "|ppptky391.asahi-net.or.jp |01/Jul/1995:00:00:18 -0400|/facts/about_ksc.html                            |200   |3977        |\n",
      "|net-1-141.eden.com        |01/Jul/1995:00:00:19 -0400|/shuttle/missions/sts-71/images/KSC-95EC-0916.jpg|200   |34029       |\n",
      "+--------------------------+--------------------------+-------------------------------------------------+------+------------+\n",
      "only showing top 20 rows\n",
      "\n"
     ]
    },
    {
     "data": {
      "text/plain": [
       "DataFrame[host: string, timestamp: string, path: string, status: int, content_size: int]"
      ]
     },
     "execution_count": 30,
     "metadata": {},
     "output_type": "execute_result"
    }
   ],
   "source": [
    "df_nasa_log = df_raw_nasa_log.select(regexp_extract('value', r'^([^\\s]+\\s)', 1).alias('host'),\n",
    "                          regexp_extract('value', r'^.*\\[(\\d\\d/\\w{3}/\\d{4}:\\d{2}:\\d{2}:\\d{2} -\\d{4})]', 1).alias('timestamp'),\n",
    "                          regexp_extract('value', r'^.*\"\\w+\\s+([^\\s]+)\\s+HTTP.*\"', 1).alias('path'),\n",
    "                          regexp_extract('value', r'^.*\"\\s+([^\\s]+)', 1).cast('integer').alias('status'),\n",
    "                          regexp_extract('value', r'^.*\\s+(\\d+)$', 1).cast('integer').alias('content_size'))\n",
    "df_nasa_log.show(truncate=False)\n",
    "df_nasa_log.cache()"
   ]
  },
  {
   "cell_type": "markdown",
   "metadata": {},
   "source": [
    "### Checagem de dados"
   ]
  },
  {
   "cell_type": "code",
   "execution_count": 40,
   "metadata": {},
   "outputs": [
    {
     "name": "stdout",
     "output_type": "stream",
     "text": [
      "+----+---------+----+------+------------+\n",
      "|host|timestamp|path|status|content_size|\n",
      "+----+---------+----+------+------------+\n",
      "|   0|        0|   0|     0|           0|\n",
      "+----+---------+----+------+------------+\n",
      "\n"
     ]
    }
   ],
   "source": [
    "from pyspark.sql.functions import isnan, when, count, col\n",
    "df_nasa_log.select([count(when(col(c).isNull(), c)).alias(c) for c in df_nasa_log.columns]).show()"
   ]
  },
  {
   "cell_type": "markdown",
   "metadata": {},
   "source": [
    "### Retirando registros em 'status'"
   ]
  },
  {
   "cell_type": "code",
   "execution_count": 33,
   "metadata": {},
   "outputs": [],
   "source": [
    "df_nasa_log = df_nasa_log.filter(~df_nasa_log.status.isNull())"
   ]
  },
  {
   "cell_type": "markdown",
   "metadata": {},
   "source": [
    "### Checando 'content-size' vazio"
   ]
  },
  {
   "cell_type": "code",
   "execution_count": 36,
   "metadata": {},
   "outputs": [
    {
     "name": "stdout",
     "output_type": "stream",
     "text": [
      "+--------------------+--------------------+--------------------+------+------------+\n",
      "|                host|           timestamp|                path|status|content_size|\n",
      "+--------------------+--------------------+--------------------+------+------------+\n",
      "|dd15-062.compuser...|01/Jul/1995:00:01...|/news/sci.space.s...|   404|        null|\n",
      "|    dynip42.efn.org |01/Jul/1995:00:02...|           /software|   302|        null|\n",
      "|ix-or10-06.ix.net...|01/Jul/1995:00:02...|     /software/winvn|   302|        null|\n",
      "|ix-or10-06.ix.net...|01/Jul/1995:00:03...|           /software|   302|        null|\n",
      "|link097.txdirect....|01/Jul/1995:00:05...|            /shuttle|   302|        null|\n",
      "|ix-war-mi1-20.ix....|01/Jul/1995:00:05...|/shuttle/missions...|   302|        null|\n",
      "|ix-war-mi1-20.ix....|01/Jul/1995:00:05...|/shuttle/missions...|   302|        null|\n",
      "|  netport-27.iu.net |01/Jul/1995:00:10...|/pub/winvn/readme...|   404|        null|\n",
      "|  netport-27.iu.net |01/Jul/1995:00:10...|/pub/winvn/readme...|   404|        null|\n",
      "|    dynip38.efn.org |01/Jul/1995:00:10...|           /software|   302|        null|\n",
      "|    129.188.154.200 |01/Jul/1995:00:11...|   /shuttle/missions|   302|        null|\n",
      "|    129.188.154.200 |01/Jul/1995:00:11...|            /shuttle|   302|        null|\n",
      "|    129.188.154.200 |01/Jul/1995:00:12...|            /shuttle|   302|        null|\n",
      "|blv-pm0-ip28.halc...|01/Jul/1995:00:14...|/persons/astronau...|   404|        null|\n",
      "|blv-pm0-ip28.halc...|01/Jul/1995:00:14...|/persons/astronau...|   404|        null|\n",
      "|detroit.freenet.org |01/Jul/1995:00:16...|  /shuttle/countdown|   302|        null|\n",
      "|        news.ti.com |01/Jul/1995:00:17...|/shuttle/missions...|   302|        null|\n",
      "|cu-dialup-1005.ci...|01/Jul/1995:00:18...|/pub/winvn/readme...|   404|        null|\n",
      "|cu-dialup-1005.ci...|01/Jul/1995:00:18...|/pub/winvn/readme...|   404|        null|\n",
      "|cu-dialup-1005.ci...|01/Jul/1995:00:18...|/pub/winvn/releas...|   404|        null|\n",
      "+--------------------+--------------------+--------------------+------+------------+\n",
      "only showing top 20 rows\n",
      "\n"
     ]
    }
   ],
   "source": [
    "df_empty_content_size = df_nasa_log.filter(df_nasa_log.content_size.isNull())\n",
    "df_empty_content_size.show()"
   ]
  },
  {
   "cell_type": "code",
   "execution_count": 38,
   "metadata": {},
   "outputs": [
    {
     "name": "stdout",
     "output_type": "stream",
     "text": [
      "+------+-----+\n",
      "|status|count|\n",
      "+------+-----+\n",
      "|   501|   28|\n",
      "|   400|   10|\n",
      "|   403|  108|\n",
      "|   404|21688|\n",
      "|   200|  166|\n",
      "|   302|17452|\n",
      "+------+-----+\n",
      "\n"
     ]
    }
   ],
   "source": [
    "df_empty_content_size.groupBy('status').count().show()"
   ]
  },
  {
   "cell_type": "markdown",
   "metadata": {},
   "source": [
    "### Substituindo 'content-size' nulo para '0'"
   ]
  },
  {
   "cell_type": "code",
   "execution_count": 39,
   "metadata": {},
   "outputs": [],
   "source": [
    "df_nasa_log = df_nasa_log.na.fill({'content_size': 0})"
   ]
  },
  {
   "cell_type": "markdown",
   "metadata": {},
   "source": [
    "### Transformação timestamp"
   ]
  },
  {
   "cell_type": "code",
   "execution_count": 23,
   "metadata": {},
   "outputs": [],
   "source": [
    "months = {\n",
    "    'Jan':1,\n",
    "    'Feb':2,\n",
    "    'Mar':3,\n",
    "    'Apr':4,\n",
    "    'May':5,\n",
    "    'Jun':6,\n",
    "    'Jul':7,\n",
    "    'Aug':8,\n",
    "    'Sep':9,\n",
    "    'Oct':10,\n",
    "    'Nov':11,\n",
    "    'Dec':12\n",
    "}\n",
    "\n",
    "def parse_timestamp(s):\n",
    "    return \"{0:04d}-{1:02d}-{2:02d} {3:02d}:{4:02d}:{5:02d}\".format(\n",
    "      int(s[7:11]),\n",
    "      months[s[3:6]],\n",
    "      int(s[0:2]),\n",
    "      int(s[12:14]),\n",
    "      int(s[15:17]),\n",
    "      int(s[18:20])\n",
    "    )\n",
    "\n",
    "u_parse_timestamp = udf(parse_timestamp, StringType())\n",
    "\n",
    "\n",
    "df_nasa_log = df_nasa_log.select('*', u_parse_timestamp(df_nasa_log['timestamp']) \\ \n",
    "                                 .cast('timestamp') \\\n",
    "                                 .alias('time')) \\\n",
    "                .drop('timestamp')"
   ]
  },
  {
   "cell_type": "markdown",
   "metadata": {},
   "source": [
    "### Encontrando o número de hosts unicos"
   ]
  },
  {
   "cell_type": "code",
   "execution_count": 14,
   "metadata": {},
   "outputs": [
    {
     "name": "stdout",
     "output_type": "stream",
     "text": [
      "Número de Hosts Unicos: 81983\n"
     ]
    }
   ],
   "source": [
    "distinct_hosts = df_nasa_log.select('host') \\\n",
    "                .distinct() \\\n",
    "                .count()\n",
    "print(\"Número de Hosts Unicos: {}\".format(distinct_hosts))"
   ]
  },
  {
   "cell_type": "markdown",
   "metadata": {},
   "source": [
    "### Encontrando número de respostas 404 (Not Found)"
   ]
  },
  {
   "cell_type": "code",
   "execution_count": 15,
   "metadata": {},
   "outputs": [
    {
     "name": "stdout",
     "output_type": "stream",
     "text": [
      "Número de Respostas 404: 21690\n"
     ]
    }
   ],
   "source": [
    "not_found = df_nasa_log.filter('status = 404').count()\n",
    "print(\"Número de Respostas 404: {}\".format(not_found))"
   ]
  },
  {
   "cell_type": "markdown",
   "metadata": {},
   "source": [
    "### Encontrando TOP 5 URLs não encontradas"
   ]
  },
  {
   "cell_type": "code",
   "execution_count": 16,
   "metadata": {},
   "outputs": [
    {
     "name": "stdout",
     "output_type": "stream",
     "text": [
      "+-------------------------------------------+-----+\n",
      "|path                                       |count|\n",
      "+-------------------------------------------+-----+\n",
      "|/pub/winvn/readme.txt                      |1334 |\n",
      "|/pub/winvn/release.txt                     |1094 |\n",
      "|/history/apollo/apollo-13.html             |572  |\n",
      "|/shuttle/resources/orbiters/atlantis.gif   |460  |\n",
      "|/history/apollo/a-001/a-001-patch-small.gif|460  |\n",
      "+-------------------------------------------+-----+\n",
      "only showing top 5 rows\n",
      "\n"
     ]
    }
   ],
   "source": [
    "urls = df_nasa_log.filter('status = 404') \\\n",
    "        .groupBy('path') \\\n",
    "        .count() \\\n",
    "        .sort(\"count\", ascending=False)\n",
    "urls.show(5, truncate=False)"
   ]
  },
  {
   "cell_type": "markdown",
   "metadata": {},
   "source": [
    "### Encontrando número de Erros 404 por dia"
   ]
  },
  {
   "cell_type": "markdown",
   "metadata": {},
   "source": [
    "#### Convertendo coluna timestamp"
   ]
  },
  {
   "cell_type": "code",
   "execution_count": 27,
   "metadata": {},
   "outputs": [
    {
     "name": "stdout",
     "output_type": "stream",
     "text": [
      "+-----+---+-----+\n",
      "|month|day|count|\n",
      "+-----+---+-----+\n",
      "|7    |6  |1280 |\n",
      "|7    |19 |1278 |\n",
      "|7    |7  |1140 |\n",
      "|7    |13 |1064 |\n",
      "|7    |5  |994  |\n",
      "|7    |3  |948  |\n",
      "|7    |12 |942  |\n",
      "|7    |11 |942  |\n",
      "|7    |18 |930  |\n",
      "|7    |25 |922  |\n",
      "|7    |20 |856  |\n",
      "|7    |14 |826  |\n",
      "|7    |17 |812  |\n",
      "|7    |10 |796  |\n",
      "|7    |4  |718  |\n",
      "|7    |9  |696  |\n",
      "|7    |26 |672  |\n",
      "|7    |27 |672  |\n",
      "|7    |21 |668  |\n",
      "|7    |24 |656  |\n",
      "+-----+---+-----+\n",
      "only showing top 20 rows\n",
      "\n"
     ]
    }
   ],
   "source": [
    "not_found_per_day = df_nasa_log.select(month('time').alias('month'), \\\n",
    "                                       dayofmonth('time').alias('day')) \\\n",
    "                    .filter('status = 404') \\\n",
    "                    .groupBy('month', 'day') \\\n",
    "                    .count() \\\n",
    "                    .sort(\"count\", ascending=False)\n",
    "not_found_per_day.show(truncate=False)\n"
   ]
  },
  {
   "cell_type": "code",
   "execution_count": null,
   "metadata": {},
   "outputs": [],
   "source": [
    "df_nasa_log.show(truncate=False)"
   ]
  },
  {
   "cell_type": "markdown",
   "metadata": {},
   "source": [
    "### Encontrando o número de bytes trafegados"
   ]
  },
  {
   "cell_type": "code",
   "execution_count": 48,
   "metadata": {},
   "outputs": [
    {
     "name": "stdout",
     "output_type": "stream",
     "text": [
      "Total de bytes trafegados: 77391946982\n"
     ]
    }
   ],
   "source": [
    "response_bytes_size = df_nasa_log.agg(sum('content_size')).collect()[0][0]\n",
    "print('Total de bytes trafegados: {}'.format(response_bytes_size))"
   ]
  }
 ],
 "metadata": {
  "kernelspec": {
   "display_name": "Python 3",
   "language": "python",
   "name": "python3"
  },
  "language_info": {
   "codemirror_mode": {
    "name": "ipython",
    "version": 3
   },
   "file_extension": ".py",
   "mimetype": "text/x-python",
   "name": "python",
   "nbconvert_exporter": "python",
   "pygments_lexer": "ipython3",
   "version": "3.6.3"
  }
 },
 "nbformat": 4,
 "nbformat_minor": 2
}
